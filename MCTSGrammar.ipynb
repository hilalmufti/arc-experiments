{
 "cells": [
  {
   "cell_type": "code",
   "execution_count": 1,
   "metadata": {},
   "outputs": [],
   "source": [
    "%load_ext autoreload\n",
    "%autoreload 2\n",
    "%matplotlib inline"
   ]
  },
  {
   "cell_type": "code",
   "execution_count": 18,
   "metadata": {},
   "outputs": [
    {
     "ename": "ImportError",
     "evalue": "cannot import name 'state_reset' from 'arc.load_data' (/Users/hilalmufti/programs/arc-experiments/arc/load_data.py)",
     "output_type": "error",
     "traceback": [
      "\u001b[0;31m---------------------------------------------------------------------------\u001b[0m",
      "\u001b[0;31mImportError\u001b[0m                               Traceback (most recent call last)",
      "Cell \u001b[0;32mIn[18], line 1\u001b[0m\n\u001b[0;32m----> 1\u001b[0m \u001b[38;5;28;01mfrom\u001b[39;00m \u001b[38;5;21;01marc\u001b[39;00m\u001b[38;5;21;01m.\u001b[39;00m\u001b[38;5;21;01mload_data\u001b[39;00m \u001b[38;5;28;01mimport\u001b[39;00m make_dataset, ARCTask, Dataset, TaskM, SampleM, state_reset\n\u001b[1;32m      2\u001b[0m \u001b[38;5;28;01mfrom\u001b[39;00m \u001b[38;5;21;01marc\u001b[39;00m\u001b[38;5;21;01m.\u001b[39;00m\u001b[38;5;21;01mutils\u001b[39;00m \u001b[38;5;28;01mimport\u001b[39;00m plot_grid, print_grid\n\u001b[1;32m      3\u001b[0m \u001b[38;5;28;01mfrom\u001b[39;00m \u001b[38;5;21;01marc\u001b[39;00m\u001b[38;5;21;01m.\u001b[39;00m\u001b[38;5;21;01marc_search\u001b[39;00m\u001b[38;5;21;01m.\u001b[39;00m\u001b[38;5;21;01m_mcts\u001b[39;00m \u001b[38;5;28;01mimport\u001b[39;00m \u001b[38;5;241m*\u001b[39m\n",
      "\u001b[0;31mImportError\u001b[0m: cannot import name 'state_reset' from 'arc.load_data' (/Users/hilalmufti/programs/arc-experiments/arc/load_data.py)"
     ]
    }
   ],
   "source": [
    "from arc.load_data import make_dataset, ARCTask, Dataset, TaskM, SampleM\n",
    "from arc.utils import plot_grid, print_grid\n",
    "from arc.arc_search._mcts import *"
   ]
  },
  {
   "cell_type": "code",
   "execution_count": 17,
   "metadata": {},
   "outputs": [
    {
     "ename": "NameError",
     "evalue": "name 'state_reset' is not defined",
     "output_type": "error",
     "traceback": [
      "\u001b[0;31m---------------------------------------------------------------------------\u001b[0m",
      "\u001b[0;31mNameError\u001b[0m                                 Traceback (most recent call last)",
      "Cell \u001b[0;32mIn[17], line 1\u001b[0m\n\u001b[0;32m----> 1\u001b[0m \u001b[43mstate_reset\u001b[49m()\n",
      "\u001b[0;31mNameError\u001b[0m: name 'state_reset' is not defined"
     ]
    }
   ],
   "source": [
    "state_reset()"
   ]
  },
  {
   "cell_type": "code",
   "execution_count": 110,
   "metadata": {},
   "outputs": [
    {
     "data": {
      "text/plain": [
       "(State(ps=('trim', 'tophalf', 'bottomhalf'), done=False, reward=0.0),\n",
       " 0.0,\n",
       " False)"
      ]
     },
     "execution_count": 110,
     "metadata": {},
     "output_type": "execute_result"
    }
   ],
   "source": [
    "aprogram: AbstractProgram = ('tophalf', 'bottomhalf')\n",
    "ts: Dataset = make_dataset('training')\n",
    "at: ARCTask = ts['a85d4709']\n",
    "t: TaskM = at['train']\n",
    "smp: SampleM = t[0]\n",
    "\n",
    "def solve_a85d4709(I):\n",
    "    x1 = ofcolor(I, FIVE)\n",
    "    x2 = lbind(matcher, last)\n",
    "    x3 = lbind(sfilter, x1)\n",
    "    x4 = lbind(mapply, hfrontier)\n",
    "    x5 = chain(x4, x3, x2)\n",
    "    x6 = x5(ZERO)\n",
    "    x7 = x5(TWO)\n",
    "    x8 = x5(ONE)\n",
    "    x9 = fill(I, TWO, x6)\n",
    "    x10 = fill(x9, THREE, x7)\n",
    "    O = fill(x10, FOUR, x8)\n",
    "    return O\n",
    "\n",
    "v = make_verifier(make_task(t))\n",
    "\n",
    "step = make_step(v)\n",
    "\n",
    "s = make_state(aprogram)\n",
    "\n",
    "\n",
    "step(s, 'trim')"
   ]
  },
  {
   "cell_type": "code",
   "execution_count": 118,
   "metadata": {},
   "outputs": [
    {
     "data": {
      "image/png": "[encoded data removed]",
      "text/plain": [
       "<Figure size 500x500 with 1 Axes>"
      ]
     },
     "metadata": {},
     "output_type": "display_data"
    }
   ],
   "source": [
    "plot_grid(solve_a85d4709(((1, 2, 3), (4, 5, 6), (7, 8, 9))))"
   ]
  },
  {
   "cell_type": "code",
   "execution_count": 121,
   "metadata": {},
   "outputs": [
    {
     "name": "stdout",
     "output_type": "stream",
     "text": [
      "\u001b[48;5;32m  \u001b[0m\u001b[48;5;196m  \u001b[0m\u001b[48;5;46m  \u001b[0m\n",
      "\u001b[48;5;226m  \u001b[0m\u001b[48;5;226m  \u001b[0m\u001b[48;5;226m  \u001b[0m\n",
      "\u001b[48;5;208m  \u001b[0m\u001b[48;5;117m  \u001b[0m\u001b[48;5;88m  \u001b[0m\n"
     ]
    }
   ],
   "source": [
    "print_grid(solve_a85d4709(((1, 2, 3), (4, 5, 6), (7, 8, 9))))"
   ]
  },
  {
   "cell_type": "code",
   "execution_count": 1,
   "metadata": {},
   "outputs": [
    {
     "name": "stdout",
     "output_type": "stream",
     "text": [
      "[1, 2]\n",
      "[1, 2]\n"
     ]
    }
   ],
   "source": [
    "from typing import NamedTuple\n",
    "class Foo(NamedTuple):\n",
    "    xs = []\n",
    "\n",
    "\n",
    "foo = Foo()\n",
    "foo2 = Foo()\n",
    "foo.xs.append(1)\n",
    "foo2.xs.append(2)\n",
    "print(foo.xs)\n",
    "print(foo2.xs)"
   ]
  },
  {
   "cell_type": "code",
   "execution_count": 6,
   "metadata": {},
   "outputs": [
    {
     "name": "stdout",
     "output_type": "stream",
     "text": [
      "\u001b[48;5;32m  \u001b[0m\u001b[48;5;196m  \u001b[0m\u001b[48;5;46m  \u001b[0m\n",
      "\u001b[48;5;226m  \u001b[0m\u001b[48;5;248m  \u001b[0m\u001b[48;5;200m  \u001b[0m\n",
      "\u001b[48;5;208m  \u001b[0m\u001b[48;5;117m  \u001b[0m\u001b[48;5;88m  \u001b[0m\n"
     ]
    }
   ],
   "source": [
    "print_grid([[1, 2, 3], [4, 5, 6], [7, 8, 9]])"
   ]
  }
 ],
 "metadata": {
  "kernelspec": {
   "display_name": ".venv",
   "language": "python",
   "name": "python3"
  },
  "language_info": {
   "codemirror_mode": {
    "name": "ipython",
    "version": 3
   },
   "file_extension": ".py",
   "mimetype": "text/x-python",
   "name": "python",
   "nbconvert_exporter": "python",
   "pygments_lexer": "ipython3",
   "version": "3.12.5"
  }
 },
 "nbformat": 4,
 "nbformat_minor": 2
}
