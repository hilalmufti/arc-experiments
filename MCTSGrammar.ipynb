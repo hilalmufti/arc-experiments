{
 "cells": [
  {
   "cell_type": "code",
   "execution_count": 1,
   "metadata": {},
   "outputs": [],
   "source": [
    "%load_ext autoreload\n",
    "%autoreload 2\n",
    "%matplotlib inline"
   ]
  },
  {
   "cell_type": "code",
   "execution_count": 116,
   "metadata": {},
   "outputs": [],
   "source": [
    "from arc.load_data import make_dataset, ARCTask, Dataset, TaskM, SampleM\n",
    "from arc.utils import plot_grid, print_grid\n",
    "from arc.arc_search._mcts import *"
   ]
  },
  {
   "cell_type": "code",
   "execution_count": 110,
   "metadata": {},
   "outputs": [
    {
     "data": {
      "text/plain": [
       "(State(ps=('trim', 'tophalf', 'bottomhalf'), done=False, reward=0.0),\n",
       " 0.0,\n",
       " False)"
      ]
     },
     "execution_count": 110,
     "metadata": {},
     "output_type": "execute_result"
    }
   ],
   "source": [
    "aprogram: AbstractProgram = ('tophalf', 'bottomhalf')\n",
    "ts: Dataset = make_dataset('training')\n",
    "at: ARCTask = ts['a85d4709']\n",
    "t: TaskM = at['train']\n",
    "smp: SampleM = t[0]\n",
    "\n",
    "def solve_a85d4709(I):\n",
    "    x1 = ofcolor(I, FIVE)\n",
    "    x2 = lbind(matcher, last)\n",
    "    x3 = lbind(sfilter, x1)\n",
    "    x4 = lbind(mapply, hfrontier)\n",
    "    x5 = chain(x4, x3, x2)\n",
    "    x6 = x5(ZERO)\n",
    "    x7 = x5(TWO)\n",
    "    x8 = x5(ONE)\n",
    "    x9 = fill(I, TWO, x6)\n",
    "    x10 = fill(x9, THREE, x7)\n",
    "    O = fill(x10, FOUR, x8)\n",
    "    return O\n",
    "\n",
    "v = make_verifier(make_task(t))\n",
    "\n",
    "step = make_step(v)\n",
    "\n",
    "s = make_state(aprogram)\n",
    "\n",
    "\n",
    "step(s, 'trim')"
   ]
  },
  {
   "cell_type": "code",
   "execution_count": 118,
   "metadata": {},
   "outputs": [
    {
     "data": {
      "image/png": "[encoded data removed]",
      "text/plain": [
       "<Figure size 500x500 with 1 Axes>"
      ]
     },
     "metadata": {},
     "output_type": "display_data"
    }
   ],
   "source": [
    "plot_grid(solve_a85d4709(((1, 2, 3), (4, 5, 6), (7, 8, 9))))"
   ]
  },
  {
   "cell_type": "code",
   "execution_count": 120,
   "metadata": {},
   "outputs": [
    {
     "name": "stdout",
     "output_type": "stream",
     "text": [
      "\u001b[38;5;32m  \u001b[0m\u001b[38;5;196m  \u001b[0m\u001b[38;5;46m  \u001b[0m\n",
      "\u001b[38;5;226m  \u001b[0m\u001b[38;5;226m  \u001b[0m\u001b[38;5;226m  \u001b[0m\n",
      "\u001b[38;5;208m  \u001b[0m\u001b[38;5;117m  \u001b[0m\u001b[38;5;88m  \u001b[0m\n"
     ]
    }
   ],
   "source": [
    "print_grid(solve_a85d4709(((1, 2, 3), (4, 5, 6), (7, 8, 9))))"
   ]
  }
 ],
 "metadata": {
  "kernelspec": {
   "display_name": ".venv",
   "language": "python",
   "name": "python3"
  },
  "language_info": {
   "codemirror_mode": {
    "name": "ipython",
    "version": 3
   },
   "file_extension": ".py",
   "mimetype": "text/x-python",
   "name": "python",
   "nbconvert_exporter": "python",
   "pygments_lexer": "ipython3",
   "version": "3.12.5"
  }
 },
 "nbformat": 4,
 "nbformat_minor": 2
}
