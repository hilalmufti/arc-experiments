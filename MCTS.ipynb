{
 "cells": [
  {
   "cell_type": "code",
   "execution_count": 1,
   "metadata": {
    "execution": {
     "iopub.execute_input": "2024-06-12T22:46:28.33673Z",
     "iopub.status.busy": "2024-06-12T22:46:28.336116Z",
     "iopub.status.idle": "2024-06-12T22:46:28.362215Z",
     "shell.execute_reply": "2024-06-12T22:46:28.360533Z",
     "shell.execute_reply.started": "2024-06-12T22:46:28.336687Z"
    },
    "id": "Z0F-PKuLyumq",
    "trusted": true
   },
   "outputs": [],
   "source": [
    "%load_ext autoreload\n",
    "%autoreload 2\n",
    "%matplotlib inline"
   ]
  },
  {
   "cell_type": "code",
   "execution_count": 2,
   "metadata": {
    "execution": {
     "iopub.execute_input": "2024-06-12T22:46:28.670898Z",
     "iopub.status.busy": "2024-06-12T22:46:28.670374Z",
     "iopub.status.idle": "2024-06-12T22:46:28.696562Z",
     "shell.execute_reply": "2024-06-12T22:46:28.695072Z",
     "shell.execute_reply.started": "2024-06-12T22:46:28.670858Z"
    },
    "id": "4aet9rwWyumq",
    "trusted": true
   },
   "outputs": [],
   "source": [
    "import os\n",
    "import sys\n",
    "import json\n",
    "import tqdm\n",
    "import itertools\n",
    "import inspect\n",
    "from functools import partial\n",
    "import random\n",
    "\n",
    "\n",
    "import numpy as np\n",
    "import matplotlib.pyplot as plt\n",
    "from matplotlib.colors import ListedColormap, Normalize"
   ]
  },
  {
   "cell_type": "code",
   "execution_count": 50,
   "metadata": {
    "execution": {
     "iopub.execute_input": "2024-06-12T22:51:59.986335Z",
     "iopub.status.busy": "2024-06-12T22:51:59.985894Z",
     "iopub.status.idle": "2024-06-12T22:52:00.019575Z",
     "shell.execute_reply": "2024-06-12T22:52:00.018007Z",
     "shell.execute_reply.started": "2024-06-12T22:51:59.986296Z"
    },
    "id": "0SfC1YZbyumr",
    "trusted": true
   },
   "outputs": [
    {
     "ename": "ImportError",
     "evalue": "cannot import name 'get_functions' from 'arc.load_data' (/Users/hilalmufti/programs/arc-experiments/arc/load_data.py)",
     "output_type": "error",
     "traceback": [
      "\u001b[0;31m---------------------------------------------------------------------------\u001b[0m",
      "\u001b[0;31mImportError\u001b[0m                               Traceback (most recent call last)",
      "Cell \u001b[0;32mIn[50], line 2\u001b[0m\n\u001b[1;32m      1\u001b[0m \u001b[38;5;66;03m# from load_data import load_tasks, get_functions\u001b[39;00m\n\u001b[0;32m----> 2\u001b[0m \u001b[38;5;28;01mfrom\u001b[39;00m \u001b[38;5;21;01marc\u001b[39;00m\u001b[38;5;21;01m.\u001b[39;00m\u001b[38;5;21;01mload_data\u001b[39;00m \u001b[38;5;28;01mimport\u001b[39;00m load_tasks, get_functions\n\u001b[1;32m      4\u001b[0m \u001b[38;5;28;01mdef\u001b[39;00m \u001b[38;5;21mplot_task\u001b[39m(task):\n\u001b[1;32m      5\u001b[0m \u001b[38;5;250m    \u001b[39m\u001b[38;5;124;03m\"\"\" plots a task \"\"\"\u001b[39;00m\n",
      "\u001b[0;31mImportError\u001b[0m: cannot import name 'get_functions' from 'arc.load_data' (/Users/hilalmufti/programs/arc-experiments/arc/load_data.py)"
     ]
    }
   ],
   "source": [
    "# from load_data import load_tasks, get_functions\n",
    "from arc.load_data import load_tasks, get_functions\n",
    "\n",
    "def plot_task(task):\n",
    "    \"\"\" plots a task \"\"\"\n",
    "    examples = task['train']\n",
    "    n_examples = len(examples)\n",
    "    cmap = ListedColormap([\n",
    "        '#000', '#0074D9', '#FF4136', '#2ECC40', '#FFDC00',\n",
    "        '#AAAAAA', '#F012BE', '#FF851B', '#7FDBFF', '#870C25'\n",
    "    ])\n",
    "    norm = Normalize(vmin=0, vmax=9)\n",
    "    figure, axes = plt.subplots(2, n_examples, figsize=(n_examples * 4, 8))\n",
    "    for column, example in enumerate(examples):\n",
    "        axes[0, column].imshow(example['input'], cmap=cmap, norm=norm)\n",
    "        axes[1, column].imshow(example['output'], cmap=cmap, norm=norm)\n",
    "        axes[0, column].axis('off')\n",
    "        axes[1, column].axis('off')\n",
    "    plt.show()\n",
    "\n",
    "tasks_train = load_tasks('training')\n",
    "tasks_test = load_tasks('evaluation')\n",
    "plot_task(tasks_train['0a938d79'])"
   ]
  },
  {
   "cell_type": "code",
   "execution_count": null,
   "metadata": {},
   "outputs": [],
   "source": [
    "# from _search import search, seq_to_program, i2p\n",
    "from arc.arc_search._search import search, i2p\n",
    "import arc.arc_dsl.dsl as dsl\n",
    "\n",
    "MAX_LENGTH = 40\n",
    "\n",
    "DSL_primitives = get_functions(dsl)\n",
    "itop = [p.__name__ for p in DSL_primitives]\n",
    "ptoi = {p: i for i, p in enumerate(itop)}\n",
    "\n",
    "i_identity = ptoi['identity']\n",
    "\n",
    "i2p = partial(i2p, itop=itop)\n",
    "i2p = np.vectorize(i2p)\n",
    "\n",
    "primitive_names = {p.__name__ for p in DSL_primitives}\n",
    "print(f\"DSL consists of {len(DSL_primitives)} primitives: {primitive_names}\")"
   ]
  },
  {
   "cell_type": "code",
   "execution_count": null,
   "metadata": {},
   "outputs": [],
   "source": [
    "primitive_names"
   ]
  },
  {
   "cell_type": "code",
   "execution_count": null,
   "metadata": {
    "execution": {
     "iopub.execute_input": "2024-06-12T22:52:01.973064Z",
     "iopub.status.busy": "2024-06-12T22:52:01.972518Z",
     "iopub.status.idle": "2024-06-12T22:52:02.031027Z",
     "shell.execute_reply": "2024-06-12T22:52:02.029219Z",
     "shell.execute_reply.started": "2024-06-12T22:52:01.973025Z"
    },
    "id": "blnTxyvByumr",
    "trusted": true
   },
   "outputs": [],
   "source": [
    "# the maximum composition depth to consider\n",
    "MAX_DEPTH = 2\n",
    "\n",
    "# construct the program strings of all programs expressible by composing at most MAX_DEPTH primitives\n",
    "program_strings = search(MAX_DEPTH, primitive_names)\n",
    "# print some of the program strings\n",
    "print('\\n'.join([*program_strings[:10], '...']))\n",
    "print(f'Space to search consists of {len(program_strings)} programs:\\n')\n",
    "\n",
    "# map program strings to programs\n",
    "programs = {prog_str: eval(prog_str) for prog_str in program_strings}"
   ]
  },
  {
   "cell_type": "code",
   "execution_count": null,
   "metadata": {
    "execution": {
     "iopub.execute_input": "2024-06-12T22:50:20.776661Z",
     "iopub.status.busy": "2024-06-12T22:50:20.776108Z",
     "iopub.status.idle": "2024-06-12T22:50:49.308717Z",
     "shell.execute_reply": "2024-06-12T22:50:49.307578Z",
     "shell.execute_reply.started": "2024-06-12T22:50:20.776609Z"
    },
    "id": "MgebDnPgyumr",
    "trusted": true
   },
   "outputs": [],
   "source": [
    "# TODO: How do I paralellize this\n",
    "def solve(tasks, programs):\n",
    "    guesses = dict()\n",
    "    for (key, task) in tqdm.tqdm(tasks.items()):\n",
    "        train_inputs = [example['input'] for example in task['train']]\n",
    "        train_outputs = [example['output'] for example in task['train']]\n",
    "        hypotheses = []\n",
    "        # iterate over all programs\n",
    "        if isinstance(programs, dict):\n",
    "            programs = programs.items()\n",
    "        for program_string, program in programs:\n",
    "            try:\n",
    "                if all([program(i) == o for i, o in zip(train_inputs, train_outputs)]):\n",
    "                    # remember program if it explains all training examples\n",
    "                    hypotheses.append(program_string)\n",
    "            except:\n",
    "                pass\n",
    "        # select first program for making predictions\n",
    "        if len(hypotheses) > 0:\n",
    "            print(f'found {len(hypotheses)} candidate programs for task {key}!')\n",
    "            guesses[key] = hypotheses[0]\n",
    "    print(f'\\nMade guesses for {len(guesses)} tasks')\n",
    "    return guesses\n",
    "\n",
    "guesses = solve(tasks_train, programs)\n",
    "guesses"
   ]
  },
  {
   "cell_type": "code",
   "execution_count": null,
   "metadata": {
    "execution": {
     "iopub.execute_input": "2024-06-12T22:52:26.925245Z",
     "iopub.status.busy": "2024-06-12T22:52:26.924798Z",
     "iopub.status.idle": "2024-06-12T22:52:26.952322Z",
     "shell.execute_reply": "2024-06-12T22:52:26.950573Z",
     "shell.execute_reply.started": "2024-06-12T22:52:26.92521Z"
    },
    "id": "apRGd_Rgyumr",
    "trusted": true
   },
   "outputs": [],
   "source": [
    "# make predictions and evaluate them\n",
    "\n",
    "solved = dict()\n",
    "\n",
    "# iterate over all tasks for which a guess exists\n",
    "for key, program_string in guesses.items():\n",
    "    # test_inputs = [example['input'] for example in train_challenges[key]['test']]\n",
    "    test_inputs = [example['input'] for example in tasks_train[key]['test']]\n",
    "    test_outputs = [example['output'] for example in tasks_train[key]['test']]\n",
    "    program = eval(program_string)\n",
    "    if all([program(i) == o for (i, o) in zip(test_inputs, test_outputs)]):\n",
    "    # if all([program(i) == o for i, o in zip(test_inputs, train_solutions[key])]):\n",
    "        # mark predition as correct if all test examples are solved by the program\n",
    "        solved[key] = program_string\n",
    "\n",
    "\n",
    "print(f'Predictions correct for {len(solved)}/{len(guesses)} tasks')"
   ]
  },
  {
   "cell_type": "code",
   "execution_count": null,
   "metadata": {
    "execution": {
     "iopub.execute_input": "2024-06-12T22:52:29.492151Z",
     "iopub.status.busy": "2024-06-12T22:52:29.491705Z",
     "iopub.status.idle": "2024-06-12T22:52:31.025246Z",
     "shell.execute_reply": "2024-06-12T22:52:31.022639Z",
     "shell.execute_reply.started": "2024-06-12T22:52:29.492116Z"
    },
    "id": "AQLRwaDoyumr",
    "trusted": true
   },
   "outputs": [],
   "source": [
    "# visualize solved tasks\n",
    "for key, program_string in solved.items():\n",
    "    print(f'For task \"{key}\", found program \"{program_string}\"')\n",
    "    plot_task(tasks_train[key])"
   ]
  },
  {
   "cell_type": "markdown",
   "metadata": {
    "id": "h_vApiQGyumr"
   },
   "source": [
    "While this code runs extremely fast (considering 400 tasks in less than 10 seconds), it also performs extremely poor (solving only 4/400 tasks, giving a mere 1% accuracy). How could it be improved? What can be learned from it? There are at least two issues with the above approach to searching a space of programs expressible in a DSL: First, the DSL provided here is not very expressive in that for most tasks, no program that solves it exists in the set of all possible programs buildable in the DSL. Second, even if sufficient expressivity is guaranteed (e.g. via a turing-complete DSL), for which by definition there would exist solution programs to each task, such programs may in practice either not be discoverable in the first place or not detectable as correct programs."
   ]
  },
  {
   "cell_type": "markdown",
   "metadata": {
    "id": "TM1-HtYuyumr"
   },
   "source": [
    "### Increasing DSL Expressivity\n",
    "It is obvious why some tasks can't be solved by the above DSL, but one simple proof would be the following: No primitive ever increases the pixel count of a grid, hence neither can any composition of the primitives ever do so - and since for certain tasks, the output grids do have more pixels than the input grids, the DSL is incomplete. To increase the expressibity of the program space (disregarding the maximum program size), one will want to expand the set of the primitives and also extend the structure of the considered programs beyond mere composition. Maybe it is a good idea to have primitives which take more than one input argument, or primitives that operate on types other than only grids, such as objects or integers. Note that viewing the transformations from inputs to outputs as a linear function composition is very misleading, as many tasks can't be neatly squeezed into this form: Some tasks seem much better addressed on a pixel- or object-level than on a grid-level. A good DSL is probably concise and allows expressing solutions to many tasks as short programs. Such a DSL may best be built by bootstrapping, that is, building a minimal version of it and then iterating back and forth between using it to solve ARC tasks and expanding it to account for unsolvable ARC tasks, all while having abstractness and flexibility of the primitives and how they can interplay in mind."
   ]
  },
  {
   "cell_type": "code",
   "execution_count": null,
   "metadata": {
    "execution": {
     "iopub.execute_input": "2024-06-12T22:52:43.183158Z",
     "iopub.status.busy": "2024-06-12T22:52:43.182488Z",
     "iopub.status.idle": "2024-06-12T22:52:43.57479Z",
     "shell.execute_reply": "2024-06-12T22:52:43.572911Z",
     "shell.execute_reply.started": "2024-06-12T22:52:43.183107Z"
    },
    "id": "7MrlEe_xyums",
    "trusted": true
   },
   "outputs": [],
   "source": [
    "# example of task where above DSL is ill-suited and e.g. an object-centric view could be more appropriate.\n",
    "# Potentially useful primitives: object extraction, property detection (has 6 pixels) and transformations (recolor)\n",
    "plot_task(tasks_train['b775ac94'])\n",
    "# this guy needs a much simpler dsl"
   ]
  },
  {
   "cell_type": "code",
   "execution_count": null,
   "metadata": {
    "execution": {
     "iopub.execute_input": "2024-06-12T22:52:49.399975Z",
     "iopub.status.busy": "2024-06-12T22:52:49.399408Z",
     "iopub.status.idle": "2024-06-12T22:52:49.751495Z",
     "shell.execute_reply": "2024-06-12T22:52:49.749502Z",
     "shell.execute_reply.started": "2024-06-12T22:52:49.399924Z"
    },
    "id": "7F5cLumWyums",
    "trusted": true
   },
   "outputs": [],
   "source": [
    "# example of task where above DSL is ill-suited and e.g. a more pixel-centric view could be more appropriate.\n",
    "# Potentially useful: cellular automata\n",
    "plot_task(tasks_train['3906de3d'])"
   ]
  },
  {
   "cell_type": "markdown",
   "metadata": {
    "id": "s4drRJahyums"
   },
   "source": [
    "### Increasing Search Efficiency\n",
    "To increase the efficiency of the search for programs, it is crucial to avoid a brute force search, as it very quickly becomes entirely infeasible as the size of the programs and the number of primitives grow: Even for a simplistic DSL where the primitives can only interact with each other via composition, if it consists of p primitives and one wants to check all programs up to depth d, the number of programs to consider with grow on the order of $p^d$."
   ]
  },
  {
   "cell_type": "markdown",
   "metadata": {
    "id": "2IiZoEPhyums"
   },
   "source": [
    "Naively, \"pruning the search space\" or avoiding considering primitives or subprograms unlikely useful for a solution program could be addressed by building heuristics into the search, e.g. \"whenever the output grid is always of the same size as the input grid for all training examples, don't consider grid rescaling operations during the search\". However, not only would such an approach be extremely labour-intensive, but also likely prone to result in a brittle and static system that would performs poorly. Maybe the navigation of the search space is something that can or even should be learned, not hardcoded."
   ]
  },
  {
   "cell_type": "code",
   "execution_count": null,
   "metadata": {
    "execution": {
     "iopub.execute_input": "2024-06-12T22:53:01.092855Z",
     "iopub.status.busy": "2024-06-12T22:53:01.092374Z",
     "iopub.status.idle": "2024-06-12T22:53:01.119805Z",
     "shell.execute_reply": "2024-06-12T22:53:01.118188Z",
     "shell.execute_reply.started": "2024-06-12T22:53:01.092818Z"
    },
    "id": "6PBuhrjJyums",
    "trusted": true
   },
   "outputs": [],
   "source": [
    "# some calculations on infeasibility of brute force search\n",
    "pd_arr = [(p, d) for p in [8, 16, 32] for d in [2, 4, 8]]\n",
    "for p, d in sorted(pd_arr, key=lambda pd: pd[0]**pd[1]):\n",
    "    print(f'DSL with {p} primitives and max. depth {d} allows > {p**d} programs')"
   ]
  },
  {
   "cell_type": "markdown",
   "metadata": {
    "id": "ZAsMkM85yums"
   },
   "source": [
    "### Outlook\n",
    "\n",
    "Creating your own DSL from scratch will probably not be easy and may not be desired or needed in the first place. There are at least two open-source DSLs for ARC, for example [Johan's DSL](https://github.com/top-quarks/ARC-solution) which he also used to win the first ARC-competition in 2020 with 20.6% by having efficient implementations and simple primitive signatures rendering a large-scale search feasible. Alternatively, I have built a separate, less minimal [ARC-DSL](https://github.com/michaelhodel/arc-dsl) that comes alongside reference [solution programs for all 400 ARC training tasks](https://github.com/michaelhodel/arc-dsl/blob/main/solvers.py) and which was also used for more recent program synthesis approaches such as [CodeIt](https://arxiv.org/pdf/2402.04858) that may be useful, even if just as inspiration. However, not following other's footsteps can also have benefits, such as not having to work with something that may be suboptimal for the desired approach at hand and by that getting stuck in a local minimum, and maybe a more adequate DSL for ARC is yet to be created, maybe by you!\n",
    "\n",
    "And, of course, using a DSL and searching over it is by no means the only way or all there is to ARC. Arguably, much work is yet to be done, and novelty and diversity in approaches seem in dire need to make progress on the benchmark, and with that hopefully ultimaltely towards much more advanced AI.\n",
    "\n",
    "Happy ARC-ing and good luck with the ARC-prize!"
   ]
  },
  {
   "cell_type": "code",
   "execution_count": null,
   "metadata": {
    "execution": {
     "iopub.execute_input": "2024-06-12T23:00:50.433078Z",
     "iopub.status.busy": "2024-06-12T23:00:50.432445Z",
     "iopub.status.idle": "2024-06-12T23:00:59.303197Z",
     "shell.execute_reply": "2024-06-12T23:00:59.300973Z",
     "shell.execute_reply.started": "2024-06-12T23:00:50.433029Z"
    },
    "id": "9I_ox7kNyums",
    "trusted": true
   },
   "outputs": [],
   "source": [
    "# let's try to make a submission\n",
    "\n",
    "submission = dict()\n",
    "# iterate over all tasks\n",
    "for key, task in tqdm.tqdm(tasks_train.items()):\n",
    "    train_inputs = [example['input'] for example in task['train']]\n",
    "    train_outputs = [example['output'] for example in task['train']]\n",
    "    hypotheses = []\n",
    "    # iterate over all programs\n",
    "    for program_string, program in programs.items():\n",
    "        try:\n",
    "            if all([program(i) == o for i, o in zip(train_inputs, train_outputs)]):\n",
    "                # remember program if it explains all training examples\n",
    "                hypotheses.append(program_string)\n",
    "        except:\n",
    "            pass\n",
    "    # select first program for making predictions\n",
    "    predictions = [example['input'] for example in task['test']]\n",
    "    if len(hypotheses) > 0:\n",
    "        print(f'found {len(hypotheses)} candidate programs for task {key}!')\n",
    "        program_string = hypotheses[0]\n",
    "        program = eval(program_string)\n",
    "        try:\n",
    "            predictions = [program(example['input']) for example in task['test']]\n",
    "        except:\n",
    "            pass\n",
    "    submission[key] = [{'attempt_1': grid, 'attempt_2': grid} for grid in predictions]\n",
    "print(f'\\nMade guesses for {len(guesses)} tasks')\n",
    "\n",
    "with open('submission.json', 'w') as fp:\n",
    "    json.dump(submission, fp)"
   ]
  },
  {
   "cell_type": "code",
   "execution_count": 22,
   "metadata": {},
   "outputs": [],
   "source": [
    "from arc.arc_search._mcts import *"
   ]
  },
  {
   "cell_type": "code",
   "execution_count": 27,
   "metadata": {},
   "outputs": [
    {
     "data": {
      "text/plain": [
       "{'a'}"
      ]
     },
     "execution_count": 27,
     "metadata": {},
     "output_type": "execute_result"
    }
   ],
   "source": [
    "x = set()\n",
    "x.add('a')\n",
    "x"
   ]
  },
  {
   "cell_type": "code",
   "execution_count": 24,
   "metadata": {},
   "outputs": [
    {
     "data": {
      "text/plain": [
       "Node(state=(), visits=0, value=0.0, parent=None, children=set())"
      ]
     },
     "execution_count": 24,
     "metadata": {},
     "output_type": "execute_result"
    }
   ],
   "source": [
    "make_node(())"
   ]
  },
  {
   "cell_type": "code",
   "execution_count": 18,
   "metadata": {},
   "outputs": [
    {
     "data": {
      "text/plain": [
       "<function __main__.make_foo(bar, baz)>"
      ]
     },
     "execution_count": 18,
     "metadata": {},
     "output_type": "execute_result"
    }
   ],
   "source": [
    "make_foo"
   ]
  },
  {
   "cell_type": "code",
   "execution_count": 21,
   "metadata": {},
   "outputs": [
    {
     "data": {
      "text/plain": [
       "['foo', 'one', 'two']"
      ]
     },
     "execution_count": 21,
     "metadata": {},
     "output_type": "execute_result"
    }
   ],
   "source": [
    "make_foo('one', 'two')"
   ]
  },
  {
   "cell_type": "code",
   "execution_count": null,
   "metadata": {},
   "outputs": [
    {
     "data": {
      "text/plain": [
       "'lambda I: ayo(world(hello(I)))'"
      ]
     },
     "execution_count": 58,
     "metadata": {},
     "output_type": "execute_result"
    }
   ],
   "source": [
    "make_program_string(('hello', 'world', 'ayo'))"
   ]
  },
  {
   "cell_type": "code",
   "execution_count": 15,
   "metadata": {},
   "outputs": [
    {
     "data": {
      "text/plain": [
       "Node(state=(), visits=0, value=0.0, parent=None, children=[Node(state='A', visits=0, value=0.0, parent=None, children=[...]), Node(state='A', visits=0, value=0.0, parent=None, children=[...])])"
      ]
     },
     "execution_count": 15,
     "metadata": {},
     "output_type": "execute_result"
    }
   ],
   "source": [
    "n = Node(())\n",
    "c = Node(('A'))\n",
    "\n",
    "node_append(n, c)\n",
    "n"
   ]
  },
  {
   "cell_type": "code",
   "execution_count": 4,
   "metadata": {},
   "outputs": [
    {
     "data": {
      "text/plain": [
       "Node(state=(), visits=0, value=0.0, parent=None, children=[Node(state=('A',), visits=0, value=0.0, parent=Node(state=(), visits=0, value=0.0, parent=None, children=None), children=[Node(state=('A', 'C'), visits=0, value=0.0, parent=Node(state=('A',), visits=0, value=0.0, parent=Node(state=(), visits=0, value=0.0, parent=None, children=None), children=None), children=None), Node(state=('A', 'D'), visits=0, value=0.0, parent=Node(state=('A',), visits=0, value=0.0, parent=Node(state=(), visits=0, value=0.0, parent=None, children=None), children=[Node(state=('A', 'C'), visits=0, value=0.0, parent=Node(state=('A',), visits=0, value=0.0, parent=Node(state=(), visits=0, value=0.0, parent=None, children=None), children=None), children=None)]), children=None)]), Node(state=('B',), visits=0, value=0.0, parent=Node(state=(), visits=0, value=0.0, parent=None, children=[Node(state=('A',), visits=0, value=0.0, parent=Node(state=(), visits=0, value=0.0, parent=None, children=None), children=None)]), children=[Node(state=('B', 'E'), visits=0, value=0.0, parent=Node(state=('B',), visits=0, value=0.0, parent=Node(state=(), visits=0, value=0.0, parent=None, children=[Node(state=('A',), visits=0, value=0.0, parent=Node(state=(), visits=0, value=0.0, parent=None, children=None), children=None)]), children=None), children=None), Node(state=('B', 'F'), visits=0, value=0.0, parent=Node(state=('B',), visits=0, value=0.0, parent=Node(state=(), visits=0, value=0.0, parent=None, children=[Node(state=('A',), visits=0, value=0.0, parent=Node(state=(), visits=0, value=0.0, parent=None, children=None), children=None)]), children=[Node(state=('B', 'E'), visits=0, value=0.0, parent=Node(state=('B',), visits=0, value=0.0, parent=Node(state=(), visits=0, value=0.0, parent=None, children=[Node(state=('A',), visits=0, value=0.0, parent=Node(state=(), visits=0, value=0.0, parent=None, children=None), children=None)]), children=None), children=None)]), children=None), Node(state=('B', 'G'), visits=0, value=0.0, parent=Node(state=('B',), visits=0, value=0.0, parent=Node(state=(), visits=0, value=0.0, parent=None, children=[Node(state=('A',), visits=0, value=0.0, parent=Node(state=(), visits=0, value=0.0, parent=None, children=None), children=None)]), children=[Node(state=('B', 'E'), visits=0, value=0.0, parent=Node(state=('B',), visits=0, value=0.0, parent=Node(state=(), visits=0, value=0.0, parent=None, children=[Node(state=('A',), visits=0, value=0.0, parent=Node(state=(), visits=0, value=0.0, parent=None, children=None), children=None)]), children=None), children=None), Node(state=('B', 'F'), visits=0, value=0.0, parent=Node(state=('B',), visits=0, value=0.0, parent=Node(state=(), visits=0, value=0.0, parent=None, children=[Node(state=('A',), visits=0, value=0.0, parent=Node(state=(), visits=0, value=0.0, parent=None, children=None), children=None)]), children=[Node(state=('B', 'E'), visits=0, value=0.0, parent=Node(state=('B',), visits=0, value=0.0, parent=Node(state=(), visits=0, value=0.0, parent=None, children=[Node(state=('A',), visits=0, value=0.0, parent=Node(state=(), visits=0, value=0.0, parent=None, children=None), children=None)]), children=None), children=None)]), children=None)]), children=None)])])"
      ]
     },
     "execution_count": 4,
     "metadata": {},
     "output_type": "execute_result"
    }
   ],
   "source": [
    "root = make_toy_tree()\n",
    "\n",
    "root"
   ]
  },
  {
   "cell_type": "code",
   "execution_count": 51,
   "metadata": {},
   "outputs": [
    {
     "name": "stdout",
     "output_type": "stream",
     "text": [
      "() n=0 v=0.00\n",
      "  ('A',) n=0 v=0.00\n",
      "    ('A', 'C') n=0 v=0.00\n",
      "    ('A', 'D') n=0 v=0.00\n",
      "  ('B',) n=0 v=0.00\n",
      "    ('B', 'E') n=0 v=0.00\n",
      "    ('B', 'F') n=0 v=0.00\n",
      "    ('B', 'G') n=0 v=0.00\n"
     ]
    }
   ],
   "source": [
    "show_tree(root)"
   ]
  },
  {
   "cell_type": "code",
   "execution_count": 15,
   "metadata": {},
   "outputs": [
    {
     "data": {
      "text/plain": [
       "(('A',),\n",
       " ((),\n",
       "  None,\n",
       "  {('A',): (...),\n",
       "   ('B',): (('B',),\n",
       "    (...),\n",
       "    {('B', 'E'): (('B', 'E'), (...), {}, 0, 0.0),\n",
       "     ('B', 'F'): (('B', 'F'), (...), {}, 0, 0.0),\n",
       "     ('B', 'G'): (('B', 'G'), (...), {}, 0, 0.0)},\n",
       "    0,\n",
       "    0.0)},\n",
       "  0,\n",
       "  0.0),\n",
       " {('A', 'C'): (('A', 'C'), (...), {}, 0, 0.0),\n",
       "  ('A', 'D'): (('A', 'D'), (...), {}, 0, 0.0)},\n",
       " 0,\n",
       " 0.0)"
      ]
     },
     "execution_count": 15,
     "metadata": {},
     "output_type": "execute_result"
    }
   ],
   "source": [
    "state, parent, cs, _, _ = root\n",
    "cs[('A',)]"
   ]
  },
  {
   "cell_type": "code",
   "execution_count": 47,
   "metadata": {},
   "outputs": [
    {
     "name": "stdout",
     "output_type": "stream",
     "text": [
      "() n=0 v=0.00\n"
     ]
    }
   ],
   "source": [
    "n = make_node(())\n",
    "show_node(n)"
   ]
  },
  {
   "cell_type": "code",
   "execution_count": 40,
   "metadata": {},
   "outputs": [
    {
     "data": {
      "text/plain": [
       "7"
      ]
     },
     "execution_count": 40,
     "metadata": {},
     "output_type": "execute_result"
    }
   ],
   "source": [
    "node_visit(n)"
   ]
  },
  {
   "cell_type": "code",
   "execution_count": 9,
   "metadata": {},
   "outputs": [
    {
     "name": "stdout",
     "output_type": "stream",
     "text": [
      "() n=0 v=0.00\n",
      "  ('A',) n=0 v=0.00\n",
      "    ('A', 'C') n=0 v=0.00\n",
      "    ('A', 'D') n=0 v=0.00\n",
      "  ('B',) n=0 v=0.00\n",
      "    ('B', 'E') n=0 v=0.00\n",
      "    ('B', 'F') n=0 v=0.00\n",
      "    ('B', 'G') n=0 v=0.00\n"
     ]
    }
   ],
   "source": [
    "show_tree(root)"
   ]
  },
  {
   "cell_type": "code",
   "execution_count": 51,
   "metadata": {},
   "outputs": [
    {
     "data": {
      "text/plain": [
       "('hello', 'world')"
      ]
     },
     "execution_count": 51,
     "metadata": {},
     "output_type": "execute_result"
    }
   ],
   "source": [
    "('hello',) + ('world',)"
   ]
  },
  {
   "cell_type": "code",
   "execution_count": 31,
   "metadata": {},
   "outputs": [
    {
     "name": "stdout",
     "output_type": "stream",
     "text": [
      "Current sum: 0, Player 0's turn\n"
     ]
    },
    {
     "ename": "ConcretizationTypeError",
     "evalue": "Abstract tracer value encountered where concrete value is expected: traced array with shape int32[]\nThe problem arose with the `int` function. If trying to convert the data type of a value, try using `x.astype(int)` or `jnp.array(x, int)` instead.\nThe error occurred while tracing the function select_action at /var/folders/4k/1j9dmqmj48n0ly5bvj__zrc80000gn/T/ipykernel_80220/4120847378.py:29 for jit. This concrete value was not available in Python because it depends on the values of the arguments node.visit_count, node.children[1].visit_count, node.children[1].total_value, node.children[2].visit_count, and node.children[2].total_value.\n\nSee https://jax.readthedocs.io/en/latest/errors.html#jax.errors.ConcretizationTypeError",
     "output_type": "error",
     "traceback": [
      "\u001b[0;31m---------------------------------------------------------------------------\u001b[0m",
      "\u001b[0;31mConcretizationTypeError\u001b[0m                   Traceback (most recent call last)",
      "Cell \u001b[0;32mIn[31], line 154\u001b[0m\n\u001b[1;32m    150\u001b[0m     winner \u001b[38;5;241m=\u001b[39m \u001b[38;5;241m1\u001b[39m \u001b[38;5;241m-\u001b[39m state\u001b[38;5;241m.\u001b[39mcurrent_player\n\u001b[1;32m    151\u001b[0m     \u001b[38;5;28mprint\u001b[39m(\u001b[38;5;124mf\u001b[39m\u001b[38;5;124m\"\u001b[39m\u001b[38;5;124mGame over! Player \u001b[39m\u001b[38;5;132;01m{\u001b[39;00mwinner\u001b[38;5;132;01m}\u001b[39;00m\u001b[38;5;124m wins!\u001b[39m\u001b[38;5;124m\"\u001b[39m)\n\u001b[0;32m--> 154\u001b[0m \u001b[43mplay_game\u001b[49m\u001b[43m(\u001b[49m\u001b[43m)\u001b[49m\n",
      "Cell \u001b[0;32mIn[31], line 140\u001b[0m, in \u001b[0;36mplay_game\u001b[0;34m()\u001b[0m\n\u001b[1;32m    137\u001b[0m \u001b[38;5;28mprint\u001b[39m(\u001b[38;5;124mf\u001b[39m\u001b[38;5;124m\"\u001b[39m\u001b[38;5;124mCurrent sum: \u001b[39m\u001b[38;5;132;01m{\u001b[39;00mstate\u001b[38;5;241m.\u001b[39mcurrent_sum\u001b[38;5;132;01m}\u001b[39;00m\u001b[38;5;124m, Player \u001b[39m\u001b[38;5;132;01m{\u001b[39;00mstate\u001b[38;5;241m.\u001b[39mcurrent_player\u001b[38;5;132;01m}\u001b[39;00m\u001b[38;5;124m'\u001b[39m\u001b[38;5;124ms turn\u001b[39m\u001b[38;5;124m\"\u001b[39m)\n\u001b[1;32m    139\u001b[0m \u001b[38;5;28;01mif\u001b[39;00m state\u001b[38;5;241m.\u001b[39mcurrent_player \u001b[38;5;241m==\u001b[39m \u001b[38;5;241m0\u001b[39m:  \u001b[38;5;66;03m# AI's turn\u001b[39;00m\n\u001b[0;32m--> 140\u001b[0m     action \u001b[38;5;241m=\u001b[39m \u001b[43mmcts_search\u001b[49m\u001b[43m(\u001b[49m\u001b[43mstate\u001b[49m\u001b[43m)\u001b[49m\n\u001b[1;32m    141\u001b[0m     \u001b[38;5;28mprint\u001b[39m(\u001b[38;5;124mf\u001b[39m\u001b[38;5;124m\"\u001b[39m\u001b[38;5;124mAI chooses: \u001b[39m\u001b[38;5;132;01m{\u001b[39;00maction\u001b[38;5;132;01m}\u001b[39;00m\u001b[38;5;124m\"\u001b[39m)\n\u001b[1;32m    142\u001b[0m \u001b[38;5;28;01melse\u001b[39;00m:  \u001b[38;5;66;03m# Human's turn\u001b[39;00m\n",
      "Cell \u001b[0;32mIn[31], line 112\u001b[0m, in \u001b[0;36mmcts_search\u001b[0;34m(root_state, num_simulations)\u001b[0m\n\u001b[1;32m    110\u001b[0m \u001b[38;5;66;03m# Selection\u001b[39;00m\n\u001b[1;32m    111\u001b[0m \u001b[38;5;28;01mwhile\u001b[39;00m current_node\u001b[38;5;241m.\u001b[39mchildren \u001b[38;5;129;01mand\u001b[39;00m \u001b[38;5;129;01mnot\u001b[39;00m is_terminal(current_node\u001b[38;5;241m.\u001b[39mstate):\n\u001b[0;32m--> 112\u001b[0m     action \u001b[38;5;241m=\u001b[39m \u001b[43mselect_action\u001b[49m\u001b[43m(\u001b[49m\u001b[43mcurrent_node\u001b[49m\u001b[43m)\u001b[49m\n\u001b[1;32m    113\u001b[0m     \u001b[38;5;28;01mif\u001b[39;00m action \u001b[38;5;129;01mnot\u001b[39;00m \u001b[38;5;129;01min\u001b[39;00m current_node\u001b[38;5;241m.\u001b[39mchildren:\n\u001b[1;32m    114\u001b[0m         \u001b[38;5;28;01mbreak\u001b[39;00m\n",
      "    \u001b[0;31m[... skipping hidden 15 frame]\u001b[0m\n",
      "Cell \u001b[0;32mIn[31], line 43\u001b[0m, in \u001b[0;36mselect_action\u001b[0;34m(node, exploration_constant)\u001b[0m\n\u001b[1;32m     41\u001b[0m actions \u001b[38;5;241m=\u001b[39m \u001b[38;5;28mlist\u001b[39m(node\u001b[38;5;241m.\u001b[39mchildren\u001b[38;5;241m.\u001b[39mkeys())\n\u001b[1;32m     42\u001b[0m scores \u001b[38;5;241m=\u001b[39m [ucb_score((a, c)) \u001b[38;5;28;01mfor\u001b[39;00m a, c \u001b[38;5;129;01min\u001b[39;00m node\u001b[38;5;241m.\u001b[39mchildren\u001b[38;5;241m.\u001b[39mitems()]\n\u001b[0;32m---> 43\u001b[0m \u001b[38;5;28;01mreturn\u001b[39;00m actions[\u001b[38;5;28;43mint\u001b[39;49m\u001b[43m(\u001b[49m\u001b[43mjnp\u001b[49m\u001b[38;5;241;43m.\u001b[39;49m\u001b[43margmax\u001b[49m\u001b[43m(\u001b[49m\u001b[43mjnp\u001b[49m\u001b[38;5;241;43m.\u001b[39;49m\u001b[43marray\u001b[49m\u001b[43m(\u001b[49m\u001b[43mscores\u001b[49m\u001b[43m)\u001b[49m\u001b[43m)\u001b[49m\u001b[43m)\u001b[49m]\n",
      "    \u001b[0;31m[... skipping hidden 1 frame]\u001b[0m\n",
      "File \u001b[0;32m~/programs/arc-experiments/.venv/lib/python3.12/site-packages/jax/_src/core.py:1470\u001b[0m, in \u001b[0;36mconcretization_function_error.<locals>.error\u001b[0;34m(self, arg)\u001b[0m\n\u001b[1;32m   1469\u001b[0m \u001b[38;5;28;01mdef\u001b[39;00m \u001b[38;5;21merror\u001b[39m(\u001b[38;5;28mself\u001b[39m, arg):\n\u001b[0;32m-> 1470\u001b[0m   \u001b[38;5;28;01mraise\u001b[39;00m ConcretizationTypeError(arg, fname_context)\n",
      "\u001b[0;31mConcretizationTypeError\u001b[0m: Abstract tracer value encountered where concrete value is expected: traced array with shape int32[]\nThe problem arose with the `int` function. If trying to convert the data type of a value, try using `x.astype(int)` or `jnp.array(x, int)` instead.\nThe error occurred while tracing the function select_action at /var/folders/4k/1j9dmqmj48n0ly5bvj__zrc80000gn/T/ipykernel_80220/4120847378.py:29 for jit. This concrete value was not available in Python because it depends on the values of the arguments node.visit_count, node.children[1].visit_count, node.children[1].total_value, node.children[2].visit_count, and node.children[2].total_value.\n\nSee https://jax.readthedocs.io/en/latest/errors.html#jax.errors.ConcretizationTypeError"
     ]
    }
   ],
   "source": [
    "import jax\n",
    "import jax.numpy as jnp\n",
    "from typing import NamedTuple\n",
    "import chex\n",
    "from functools import partial\n",
    "\n",
    "class State(NamedTuple):\n",
    "    current_sum: int\n",
    "    current_player: int\n",
    "\n",
    "class Node(NamedTuple):\n",
    "    state: State\n",
    "    visit_count: int\n",
    "    total_value: float\n",
    "    children: dict\n",
    "\n",
    "def get_valid_actions(state: State) -> list:\n",
    "    # Return regular Python list instead of JAX array\n",
    "    return [1, 2]\n",
    "\n",
    "def is_terminal(state: State) -> bool:\n",
    "    return state.current_sum >= 21\n",
    "\n",
    "def get_reward(state: State) -> float:\n",
    "    if is_terminal(state):\n",
    "        return -1.0 if state.current_player == 0 else 1.0\n",
    "    return 0.0\n",
    "\n",
    "@partial(jax.jit, static_argnums=(1,))\n",
    "def select_action(node: Node, exploration_constant: float = 1.41) -> int:\n",
    "    if not node.children:\n",
    "        # Instead of returning None, expand the node and select from valid actions\n",
    "        return get_valid_actions(node.state)[0]\n",
    "    \n",
    "    def ucb_score(action_node):\n",
    "        child = action_node[1]\n",
    "        exploitation = child.total_value / (child.visit_count + 1e-8)\n",
    "        exploration = jnp.sqrt(jnp.log(node.visit_count + 1) / (child.visit_count + 1e-8))\n",
    "        return exploitation + exploration_constant * exploration\n",
    "    \n",
    "    actions = list(node.children.keys())\n",
    "    scores = [ucb_score((a, c)) for a, c in node.children.items()]\n",
    "    return actions[int(jnp.argmax(jnp.array(scores)))]\n",
    "\n",
    "\n",
    "def expand(node: Node) -> Node:\n",
    "    if node.children or is_terminal(node.state):\n",
    "        return node\n",
    "    \n",
    "    children = {}\n",
    "    for action in get_valid_actions(node.state):\n",
    "        new_state = State(\n",
    "            current_sum=node.state.current_sum + action,\n",
    "            current_player=1 - node.state.current_player\n",
    "        )\n",
    "        children[int(action)] = Node(\n",
    "            state=new_state,\n",
    "            visit_count=0,\n",
    "            total_value=0.0,\n",
    "            children={}\n",
    "        )\n",
    "    \n",
    "    return node._replace(children=children)\n",
    "\n",
    "def simulate(state: State, max_depth: int = 50) -> float:\n",
    "    if is_terminal(state):\n",
    "        return get_reward(state)\n",
    "    \n",
    "    if max_depth == 0:\n",
    "        return 0.0\n",
    "    \n",
    "    actions = get_valid_actions(state)\n",
    "    action = actions[jax.random.randint(\n",
    "        jax.random.PRNGKey(0), \n",
    "        shape=(), \n",
    "        minval=0, \n",
    "        maxval=len(actions)\n",
    "    )]\n",
    "    \n",
    "    next_state = State(\n",
    "        current_sum=state.current_sum + action,\n",
    "        current_player=1 - state.current_player\n",
    "    )\n",
    "    \n",
    "    return -simulate(next_state, max_depth - 1)\n",
    "\n",
    "def backpropagate(node: Node, value: float) -> Node:\n",
    "    return Node(\n",
    "        state=node.state,\n",
    "        visit_count=node.visit_count + 1,\n",
    "        total_value=node.total_value + value,\n",
    "        children=node.children\n",
    "    )\n",
    "\n",
    "def mcts_search(root_state: State, num_simulations: int = 1000) -> int:\n",
    "    root = Node(\n",
    "        state=root_state,\n",
    "        visit_count=0,\n",
    "        total_value=0.0,\n",
    "        children={}\n",
    "    )\n",
    "    \n",
    "    # First expand the root node\n",
    "    root = expand(root)\n",
    "    \n",
    "    for _ in range(num_simulations):\n",
    "        current_node = root\n",
    "        path = [current_node]\n",
    "        \n",
    "        # Selection\n",
    "        while current_node.children and not is_terminal(current_node.state):\n",
    "            action = select_action(current_node)\n",
    "            if action not in current_node.children:\n",
    "                break\n",
    "            current_node = current_node.children[action]\n",
    "            path.append(current_node)\n",
    "        \n",
    "        # Expansion\n",
    "        if not is_terminal(current_node.state):\n",
    "            current_node = expand(current_node)\n",
    "            path[-1] = current_node\n",
    "        \n",
    "        # Simulation\n",
    "        value = simulate(current_node.state)\n",
    "        \n",
    "        # Backpropagation\n",
    "        for node in reversed(path):\n",
    "            node = backpropagate(node, value)\n",
    "            value = -value\n",
    "    \n",
    "    return select_action(root, exploration_constant=0.0)\n",
    "\n",
    "def play_game():\n",
    "    state = State(current_sum=0, current_player=0)\n",
    "    \n",
    "    while not is_terminal(state):\n",
    "        print(f\"Current sum: {state.current_sum}, Player {state.current_player}'s turn\")\n",
    "        \n",
    "        if state.current_player == 0:  # AI's turn\n",
    "            action = mcts_search(state)\n",
    "            print(f\"AI chooses: {action}\")\n",
    "        else:  # Human's turn\n",
    "            action = int(input(\"Choose 1 or 2: \"))\n",
    "        \n",
    "        state = State(\n",
    "            current_sum=state.current_sum + action,\n",
    "            current_player=1 - state.current_player\n",
    "        )\n",
    "    \n",
    "    winner = 1 - state.current_player\n",
    "    print(f\"Game over! Player {winner} wins!\")\n",
    "\n",
    "\n",
    "play_game()"
   ]
  }
 ],
 "metadata": {
  "colab": {
   "name": "Program Synthesis Starter Notebook",
   "provenance": []
  },
  "kaggle": {
   "accelerator": "none",
   "dataSources": [
    {
     "databundleVersionId": 8810484,
     "sourceId": 67357,
     "sourceType": "competition"
    }
   ],
   "dockerImageVersionId": 30732,
   "isGpuEnabled": false,
   "isInternetEnabled": false,
   "language": "python",
   "sourceType": "notebook"
  },
  "kernelspec": {
   "display_name": ".venv",
   "language": "python",
   "name": "python3"
  },
  "language_info": {
   "codemirror_mode": {
    "name": "ipython",
    "version": 3
   },
   "file_extension": ".py",
   "mimetype": "text/x-python",
   "name": "python",
   "nbconvert_exporter": "python",
   "pygments_lexer": "ipython3",
   "version": "3.12.5"
  }
 },
 "nbformat": 4,
 "nbformat_minor": 0
}
