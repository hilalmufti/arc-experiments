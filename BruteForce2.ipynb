{
 "cells": [
  {
   "cell_type": "code",
   "execution_count": 6,
   "metadata": {},
   "outputs": [
    {
     "name": "stdout",
     "output_type": "stream",
     "text": [
      "The autoreload extension is already loaded. To reload it, use:\n",
      "  %reload_ext autoreload\n"
     ]
    }
   ],
   "source": [
    "%load_ext autoreload\n",
    "%autoreload 2\n",
    "\n",
    "import os\n",
    "import json\n",
    "import tqdm\n",
    "import itertools\n",
    "import time\n",
    "from random import sample\n",
    "\n",
    "import numpy as np\n",
    "import matplotlib.pyplot as plt\n",
    "\n",
    "import arc.arc_dsl.dsl as dsl\n",
    "import arc.arc_dsl.constants as constants"
   ]
  },
  {
   "cell_type": "code",
   "execution_count": 11,
   "metadata": {},
   "outputs": [
    {
     "name": "stdout",
     "output_type": "stream",
     "text": [
      "Direct computation time: 0.0848 seconds\n",
      "Thunk creation time: 0.0000 seconds\n",
      "First thunk evaluation: 0.0776 seconds\n",
      "Second thunk evaluation: 0.0000 seconds\n",
      "\n",
      "Results match: True\n"
     ]
    }
   ],
   "source": [
    "def expensive_func():\n",
    "    return sum(range(10**7))\n",
    "\n",
    "# Test direct computation\n",
    "start = time.time()\n",
    "direct_result = expensive_func()\n",
    "direct_time = time.time() - start\n",
    "print(f\"Direct computation time: {direct_time:.4f} seconds\")\n",
    "\n",
    "# Test thunk\n",
    "# First creation (should be instant)\n",
    "start = time.time()\n",
    "thunk = Thunk(expensive_func)\n",
    "create_time = time.time() - start\n",
    "print(f\"Thunk creation time: {create_time:.4f} seconds\")\n",
    "\n",
    "# First evaluation\n",
    "start = time.time()\n",
    "thunk_result1 = thunk()\n",
    "first_eval_time = time.time() - start\n",
    "print(f\"First thunk evaluation: {first_eval_time:.4f} seconds\")\n",
    "\n",
    "# Second evaluation (should be instant)\n",
    "start = time.time()\n",
    "thunk_result2 = thunk()\n",
    "second_eval_time = time.time() - start\n",
    "print(f\"Second thunk evaluation: {second_eval_time:.4f} seconds\")\n",
    "\n",
    "# Verify results match\n",
    "print(f\"\\nResults match: {direct_result == thunk_result1 == thunk_result2}\")"
   ]
  }
 ],
 "metadata": {
  "kernelspec": {
   "display_name": ".venv",
   "language": "python",
   "name": "python3"
  },
  "language_info": {
   "codemirror_mode": {
    "name": "ipython",
    "version": 3
   },
   "file_extension": ".py",
   "mimetype": "text/x-python",
   "name": "python",
   "nbconvert_exporter": "python",
   "pygments_lexer": "ipython3",
   "version": "3.12.5"
  }
 },
 "nbformat": 4,
 "nbformat_minor": 2
}
