{
 "cells": [
  {
   "cell_type": "code",
   "execution_count": 12,
   "metadata": {},
   "outputs": [
    {
     "name": "stdout",
     "output_type": "stream",
     "text": [
      "The autoreload extension is already loaded. To reload it, use:\n",
      "  %reload_ext autoreload\n"
     ]
    }
   ],
   "source": [
    "%load_ext autoreload\n",
    "%autoreload 2\n",
    "\n",
    "from nltk.grammar import CFG\n",
    "from nltk.parse.generate import generate\n",
    "\n",
    "from arc.arc_search._grammar import count_params, read_functions, read_constants, dsl2cfg\n",
    "from arc.utils import dedup\n",
    "import arc.arc_dsl.dsl as dsl\n",
    "import arc.arc_dsl.constants as constants"
   ]
  },
  {
   "cell_type": "code",
   "execution_count": 13,
   "metadata": {},
   "outputs": [
    {
     "data": {
      "text/plain": [
       "[1, 2, 3]"
      ]
     },
     "execution_count": 13,
     "metadata": {},
     "output_type": "execute_result"
    }
   ],
   "source": [
    "dedup([1, 1, 1, 2, 2, 3, 2])"
   ]
  },
  {
   "cell_type": "code",
   "execution_count": 3,
   "metadata": {},
   "outputs": [
    {
     "data": {
      "text/plain": [
       "<function __main__.g(x)>"
      ]
     },
     "execution_count": 3,
     "metadata": {},
     "output_type": "execute_result"
    }
   ],
   "source": [
    "exec('def g(x): return x + 1')\n",
    "globals()['g']"
   ]
  },
  {
   "cell_type": "code",
   "execution_count": 23,
   "metadata": {},
   "outputs": [
    {
     "data": {
      "text/plain": [
       "134217728"
      ]
     },
     "execution_count": 23,
     "metadata": {},
     "output_type": "execute_result"
    }
   ],
   "source": [
    "2 ** 27"
   ]
  },
  {
   "cell_type": "code",
   "execution_count": 2,
   "metadata": {},
   "outputs": [
    {
     "name": "stdout",
     "output_type": "stream",
     "text": [
      "O = add(I, I); return O\n",
      "O = add(I, x1); return O\n",
      "O = add(I, x2); return O\n",
      "O = add(I, x3); return O\n",
      "O = add(I, x4); return O\n",
      "O = add(I, x5); return O\n",
      "O = add(I, x6); return O\n",
      "O = add(I, x7); return O\n",
      "O = add(I, x8); return O\n",
      "O = add(I, x9); return O\n",
      "O = add(I, x10); return O\n",
      "O = add(I, DOWN); return O\n",
      "O = add(I, DOWN_LEFT); return O\n",
      "O = add(I, EIGHT); return O\n",
      "O = add(I, F); return O\n",
      "O = add(I, FIVE); return O\n",
      "O = add(I, FOUR); return O\n",
      "O = add(I, LEFT); return O\n",
      "O = add(I, NEG_ONE); return O\n",
      "O = add(I, NEG_TWO); return O\n",
      "O = add(I, NEG_UNITY); return O\n",
      "O = add(I, NINE); return O\n",
      "O = add(I, ONE); return O\n",
      "O = add(I, ORIGIN); return O\n",
      "O = add(I, RIGHT); return O\n",
      "O = add(I, SEVEN); return O\n",
      "O = add(I, SIX); return O\n",
      "O = add(I, T); return O\n",
      "O = add(I, TEN); return O\n",
      "O = add(I, THREE); return O\n",
      "O = add(I, THREE_BY_THREE); return O\n",
      "O = add(I, TWO); return O\n",
      "O = add(I, TWO_BY_TWO); return O\n",
      "O = add(I, TWO_BY_ZERO); return O\n",
      "O = add(I, UNITY); return O\n",
      "O = add(I, UP); return O\n",
      "O = add(I, UP_RIGHT); return O\n",
      "O = add(I, ZERO); return O\n",
      "O = add(I, ZERO_BY_TWO); return O\n",
      "O = add(x1, I); return O\n",
      "O = add(x1, x1); return O\n",
      "O = add(x1, x2); return O\n",
      "O = add(x1, x3); return O\n",
      "O = add(x1, x4); return O\n",
      "O = add(x1, x5); return O\n",
      "O = add(x1, x6); return O\n",
      "O = add(x1, x7); return O\n",
      "O = add(x1, x8); return O\n",
      "O = add(x1, x9); return O\n",
      "O = add(x1, x10); return O\n",
      "O = add(x1, DOWN); return O\n",
      "O = add(x1, DOWN_LEFT); return O\n",
      "O = add(x1, EIGHT); return O\n",
      "O = add(x1, F); return O\n",
      "O = add(x1, FIVE); return O\n",
      "O = add(x1, FOUR); return O\n",
      "O = add(x1, LEFT); return O\n",
      "O = add(x1, NEG_ONE); return O\n",
      "O = add(x1, NEG_TWO); return O\n",
      "O = add(x1, NEG_UNITY); return O\n",
      "O = add(x1, NINE); return O\n",
      "O = add(x1, ONE); return O\n",
      "O = add(x1, ORIGIN); return O\n",
      "O = add(x1, RIGHT); return O\n",
      "O = add(x1, SEVEN); return O\n",
      "O = add(x1, SIX); return O\n",
      "O = add(x1, T); return O\n",
      "O = add(x1, TEN); return O\n",
      "O = add(x1, THREE); return O\n",
      "O = add(x1, THREE_BY_THREE); return O\n",
      "O = add(x1, TWO); return O\n",
      "O = add(x1, TWO_BY_TWO); return O\n",
      "O = add(x1, TWO_BY_ZERO); return O\n",
      "O = add(x1, UNITY); return O\n",
      "O = add(x1, UP); return O\n",
      "O = add(x1, UP_RIGHT); return O\n",
      "O = add(x1, ZERO); return O\n",
      "O = add(x1, ZERO_BY_TWO); return O\n",
      "O = add(x2, I); return O\n",
      "O = add(x2, x1); return O\n",
      "O = add(x2, x2); return O\n",
      "O = add(x2, x3); return O\n",
      "O = add(x2, x4); return O\n",
      "O = add(x2, x5); return O\n",
      "O = add(x2, x6); return O\n",
      "O = add(x2, x7); return O\n",
      "O = add(x2, x8); return O\n",
      "O = add(x2, x9); return O\n",
      "O = add(x2, x10); return O\n",
      "O = add(x2, DOWN); return O\n",
      "O = add(x2, DOWN_LEFT); return O\n",
      "O = add(x2, EIGHT); return O\n",
      "O = add(x2, F); return O\n",
      "O = add(x2, FIVE); return O\n",
      "O = add(x2, FOUR); return O\n",
      "O = add(x2, LEFT); return O\n",
      "O = add(x2, NEG_ONE); return O\n",
      "O = add(x2, NEG_TWO); return O\n",
      "O = add(x2, NEG_UNITY); return O\n",
      "O = add(x2, NINE); return O\n",
      "O = add(x2, ONE); return O\n",
      "O = add(x2, ORIGIN); return O\n",
      "O = add(x2, RIGHT); return O\n",
      "O = add(x2, SEVEN); return O\n",
      "O = add(x2, SIX); return O\n",
      "O = add(x2, T); return O\n",
      "O = add(x2, TEN); return O\n",
      "O = add(x2, THREE); return O\n",
      "O = add(x2, THREE_BY_THREE); return O\n",
      "O = add(x2, TWO); return O\n",
      "O = add(x2, TWO_BY_TWO); return O\n",
      "O = add(x2, TWO_BY_ZERO); return O\n",
      "O = add(x2, UNITY); return O\n",
      "O = add(x2, UP); return O\n",
      "O = add(x2, UP_RIGHT); return O\n",
      "O = add(x2, ZERO); return O\n",
      "O = add(x2, ZERO_BY_TWO); return O\n",
      "O = add(x3, I); return O\n",
      "O = add(x3, x1); return O\n",
      "O = add(x3, x2); return O\n",
      "O = add(x3, x3); return O\n",
      "O = add(x3, x4); return O\n",
      "O = add(x3, x5); return O\n",
      "O = add(x3, x6); return O\n",
      "O = add(x3, x7); return O\n",
      "O = add(x3, x8); return O\n",
      "O = add(x3, x9); return O\n",
      "O = add(x3, x10); return O\n",
      "O = add(x3, DOWN); return O\n",
      "O = add(x3, DOWN_LEFT); return O\n",
      "O = add(x3, EIGHT); return O\n",
      "O = add(x3, F); return O\n",
      "O = add(x3, FIVE); return O\n",
      "O = add(x3, FOUR); return O\n",
      "O = add(x3, LEFT); return O\n",
      "O = add(x3, NEG_ONE); return O\n",
      "O = add(x3, NEG_TWO); return O\n",
      "O = add(x3, NEG_UNITY); return O\n",
      "O = add(x3, NINE); return O\n",
      "O = add(x3, ONE); return O\n",
      "O = add(x3, ORIGIN); return O\n",
      "O = add(x3, RIGHT); return O\n",
      "O = add(x3, SEVEN); return O\n",
      "O = add(x3, SIX); return O\n",
      "O = add(x3, T); return O\n",
      "O = add(x3, TEN); return O\n",
      "O = add(x3, THREE); return O\n",
      "O = add(x3, THREE_BY_THREE); return O\n",
      "O = add(x3, TWO); return O\n",
      "O = add(x3, TWO_BY_TWO); return O\n",
      "O = add(x3, TWO_BY_ZERO); return O\n",
      "O = add(x3, UNITY); return O\n",
      "O = add(x3, UP); return O\n",
      "O = add(x3, UP_RIGHT); return O\n",
      "O = add(x3, ZERO); return O\n",
      "O = add(x3, ZERO_BY_TWO); return O\n",
      "O = add(x4, I); return O\n",
      "O = add(x4, x1); return O\n",
      "O = add(x4, x2); return O\n",
      "O = add(x4, x3); return O\n",
      "O = add(x4, x4); return O\n",
      "O = add(x4, x5); return O\n",
      "O = add(x4, x6); return O\n",
      "O = add(x4, x7); return O\n",
      "O = add(x4, x8); return O\n",
      "O = add(x4, x9); return O\n",
      "O = add(x4, x10); return O\n",
      "O = add(x4, DOWN); return O\n",
      "O = add(x4, DOWN_LEFT); return O\n",
      "O = add(x4, EIGHT); return O\n",
      "O = add(x4, F); return O\n",
      "O = add(x4, FIVE); return O\n",
      "O = add(x4, FOUR); return O\n",
      "O = add(x4, LEFT); return O\n",
      "O = add(x4, NEG_ONE); return O\n",
      "O = add(x4, NEG_TWO); return O\n",
      "O = add(x4, NEG_UNITY); return O\n",
      "O = add(x4, NINE); return O\n",
      "O = add(x4, ONE); return O\n",
      "O = add(x4, ORIGIN); return O\n",
      "O = add(x4, RIGHT); return O\n",
      "O = add(x4, SEVEN); return O\n",
      "O = add(x4, SIX); return O\n",
      "O = add(x4, T); return O\n",
      "O = add(x4, TEN); return O\n",
      "O = add(x4, THREE); return O\n",
      "O = add(x4, THREE_BY_THREE); return O\n",
      "O = add(x4, TWO); return O\n",
      "O = add(x4, TWO_BY_TWO); return O\n",
      "O = add(x4, TWO_BY_ZERO); return O\n",
      "O = add(x4, UNITY); return O\n",
      "O = add(x4, UP); return O\n",
      "O = add(x4, UP_RIGHT); return O\n",
      "O = add(x4, ZERO); return O\n",
      "O = add(x4, ZERO_BY_TWO); return O\n",
      "O = add(x5, I); return O\n",
      "O = add(x5, x1); return O\n",
      "O = add(x5, x2); return O\n",
      "O = add(x5, x3); return O\n",
      "O = add(x5, x4); return O\n"
     ]
    }
   ],
   "source": [
    "fs = {f.__name__: count_params(f) for f in read_functions(dsl)}\n",
    "cs = read_constants(constants)\n",
    "n = 10\n",
    "\n",
    "cfg_str = dsl2cfg(fs, cs, n)\n",
    "grammar = CFG.fromstring(cfg_str)\n",
    "programs = map(\"\".join, generate(grammar, n=1000000))\n",
    "\n",
    "for sent in generate(grammar, n=200):\n",
    "    print(\"\".join(sent))"
   ]
  },
  {
   "cell_type": "code",
   "execution_count": null,
   "metadata": {},
   "outputs": [],
   "source": [
    "list(map(\"\".join, generate(grammar, depth=5)))"
   ]
  }
 ],
 "metadata": {
  "kernelspec": {
   "display_name": ".venv",
   "language": "python",
   "name": "python3"
  },
  "language_info": {
   "codemirror_mode": {
    "name": "ipython",
    "version": 3
   },
   "file_extension": ".py",
   "mimetype": "text/x-python",
   "name": "python",
   "nbconvert_exporter": "python",
   "pygments_lexer": "ipython3",
   "version": "3.12.5"
  }
 },
 "nbformat": 4,
 "nbformat_minor": 2
}
