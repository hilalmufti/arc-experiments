{
 "cells": [
  {
   "cell_type": "code",
   "execution_count": 1,
   "metadata": {},
   "outputs": [],
   "source": [
    "%load_ext autoreload\n",
    "%autoreload 2\n",
    "%matplotlib inline"
   ]
  },
  {
   "cell_type": "code",
   "execution_count": 64,
   "metadata": {},
   "outputs": [],
   "source": [
    "from arc.load_data import make_dataset, ARCTask, Dataset, TaskM, SampleM\n",
    "from arc.arc_search._mcts import *"
   ]
  },
  {
   "cell_type": "code",
   "execution_count": 40,
   "metadata": {},
   "outputs": [
    {
     "data": {
      "text/plain": [
       "((1, 2, 3), (4, 5, 6), (7, 8, 9))"
      ]
     },
     "execution_count": 40,
     "metadata": {},
     "output_type": "execute_result"
    }
   ],
   "source": []
  },
  {
   "cell_type": "code",
   "execution_count": 70,
   "metadata": {},
   "outputs": [
    {
     "data": {
      "text/plain": [
       "True"
      ]
     },
     "execution_count": 70,
     "metadata": {},
     "output_type": "execute_result"
    }
   ],
   "source": [
    "aprogram: AbstractProgram = ('world', 'hello')\n",
    "ts: Dataset = make_dataset('training')\n",
    "at: ARCTask = ts['a85d4709']\n",
    "t: TaskM = at['train']\n",
    "s: SampleM = t[0]\n",
    "\n",
    "def solve_a85d4709(I):\n",
    "    x1 = ofcolor(I, FIVE)\n",
    "    x2 = lbind(matcher, last)\n",
    "    x3 = lbind(sfilter, x1)\n",
    "    x4 = lbind(mapply, hfrontier)\n",
    "    x5 = chain(x4, x3, x2)\n",
    "    x6 = x5(ZERO)\n",
    "    x7 = x5(TWO)\n",
    "    x8 = x5(ONE)\n",
    "    x9 = fill(I, TWO, x6)\n",
    "    x10 = fill(x9, THREE, x7)\n",
    "    O = fill(x10, FOUR, x8)\n",
    "    return O\n",
    "\n",
    "v = make_verifier(make_task(t))\n",
    "\n",
    "v(solve_a85d4709)"
   ]
  }
 ],
 "metadata": {
  "kernelspec": {
   "display_name": ".venv",
   "language": "python",
   "name": "python3"
  },
  "language_info": {
   "codemirror_mode": {
    "name": "ipython",
    "version": 3
   },
   "file_extension": ".py",
   "mimetype": "text/x-python",
   "name": "python",
   "nbconvert_exporter": "python",
   "pygments_lexer": "ipython3",
   "version": "3.12.5"
  }
 },
 "nbformat": 4,
 "nbformat_minor": 2
}
